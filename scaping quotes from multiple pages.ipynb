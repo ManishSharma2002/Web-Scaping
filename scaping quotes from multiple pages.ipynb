{
 "cells": [
  {
   "cell_type": "code",
   "execution_count": 184,
   "id": "aa9f3d34-6854-44be-bfa1-cb765c461b2a",
   "metadata": {},
   "outputs": [],
   "source": [
    "import requests\n",
    "import pandas as pd\n",
    "from bs4 import BeautifulSoup\n",
    "from tqdm import tqdm"
   ]
  },
  {
   "cell_type": "code",
   "execution_count": 196,
   "id": "b1d8df16-be93-4200-828a-bbaf43a87f78",
   "metadata": {},
   "outputs": [
    {
     "name": "stderr",
     "output_type": "stream",
     "text": [
      "100%|██████████████████████████████████████████████████████████████████████████████████| 10/10 [00:17<00:00,  1.78s/it]\n"
     ]
    }
   ],
   "source": [
    "data = []\n",
    "for page in tqdm(range(1,11)):\n",
    "    link =  \"https://quotes.toscrape.com/page/\" + str(page)\n",
    "    r    =  requests.get(link)\n",
    "    soup = BeautifulSoup(r.text,\"html.parser\")\n",
    "    \n",
    "    for sp in soup.find_all(\"div\",class_ = \"quote\"):\n",
    "        quotes      = sp.find(\"span\",class_= \"text\").text[1:-1]\n",
    "        author_name = sp.find(\"small\",class_ = \"author\").text\n",
    "        author_id   = sp.find(\"a\").get(\"href\")\n",
    "   \n",
    "        tags = [] \n",
    "        for tag in sp.find_all(\"a\",class_ = \"tag\"):\n",
    "            tags.append(tag.text)\n",
    "        data.append([quotes,author_id,author_name,tags])"
   ]
  },
  {
   "cell_type": "code",
   "execution_count": 198,
   "id": "090d35b8-ed5c-4a24-92a5-6c21d92c05ec",
   "metadata": {},
   "outputs": [
    {
     "data": {
      "text/plain": [
       "100"
      ]
     },
     "execution_count": 198,
     "metadata": {},
     "output_type": "execute_result"
    }
   ],
   "source": [
    "len(data)"
   ]
  },
  {
   "cell_type": "code",
   "execution_count": 199,
   "id": "a4b97b99-4347-4bc9-9eb2-1e135b0a9343",
   "metadata": {},
   "outputs": [
    {
     "data": {
      "text/html": [
       "<div>\n",
       "<style scoped>\n",
       "    .dataframe tbody tr th:only-of-type {\n",
       "        vertical-align: middle;\n",
       "    }\n",
       "\n",
       "    .dataframe tbody tr th {\n",
       "        vertical-align: top;\n",
       "    }\n",
       "\n",
       "    .dataframe thead th {\n",
       "        text-align: right;\n",
       "    }\n",
       "</style>\n",
       "<table border=\"1\" class=\"dataframe\">\n",
       "  <thead>\n",
       "    <tr style=\"text-align: right;\">\n",
       "      <th></th>\n",
       "      <th>quotes</th>\n",
       "      <th>author_id</th>\n",
       "      <th>author_name</th>\n",
       "      <th>tags</th>\n",
       "    </tr>\n",
       "  </thead>\n",
       "  <tbody>\n",
       "    <tr>\n",
       "      <th>0</th>\n",
       "      <td>The world as we have created it is a process o...</td>\n",
       "      <td>/author/Albert-Einstein</td>\n",
       "      <td>Albert Einstein</td>\n",
       "      <td>[change, deep-thoughts, thinking, world]</td>\n",
       "    </tr>\n",
       "    <tr>\n",
       "      <th>1</th>\n",
       "      <td>It is our choices, Harry, that show what we tr...</td>\n",
       "      <td>/author/J-K-Rowling</td>\n",
       "      <td>J.K. Rowling</td>\n",
       "      <td>[abilities, choices]</td>\n",
       "    </tr>\n",
       "    <tr>\n",
       "      <th>2</th>\n",
       "      <td>There are only two ways to live your life. One...</td>\n",
       "      <td>/author/Albert-Einstein</td>\n",
       "      <td>Albert Einstein</td>\n",
       "      <td>[inspirational, life, live, miracle, miracles]</td>\n",
       "    </tr>\n",
       "    <tr>\n",
       "      <th>3</th>\n",
       "      <td>The person, be it gentleman or lady, who has n...</td>\n",
       "      <td>/author/Jane-Austen</td>\n",
       "      <td>Jane Austen</td>\n",
       "      <td>[aliteracy, books, classic, humor]</td>\n",
       "    </tr>\n",
       "    <tr>\n",
       "      <th>4</th>\n",
       "      <td>Imperfection is beauty, madness is genius and ...</td>\n",
       "      <td>/author/Marilyn-Monroe</td>\n",
       "      <td>Marilyn Monroe</td>\n",
       "      <td>[be-yourself, inspirational]</td>\n",
       "    </tr>\n",
       "    <tr>\n",
       "      <th>...</th>\n",
       "      <td>...</td>\n",
       "      <td>...</td>\n",
       "      <td>...</td>\n",
       "      <td>...</td>\n",
       "    </tr>\n",
       "    <tr>\n",
       "      <th>95</th>\n",
       "      <td>You never really understand a person until you...</td>\n",
       "      <td>/author/Harper-Lee</td>\n",
       "      <td>Harper Lee</td>\n",
       "      <td>[better-life-empathy]</td>\n",
       "    </tr>\n",
       "    <tr>\n",
       "      <th>96</th>\n",
       "      <td>You have to write the book that wants to be wr...</td>\n",
       "      <td>/author/Madeleine-LEngle</td>\n",
       "      <td>Madeleine L'Engle</td>\n",
       "      <td>[books, children, difficult, grown-ups, write,...</td>\n",
       "    </tr>\n",
       "    <tr>\n",
       "      <th>97</th>\n",
       "      <td>Never tell the truth to people who are not wor...</td>\n",
       "      <td>/author/Mark-Twain</td>\n",
       "      <td>Mark Twain</td>\n",
       "      <td>[truth]</td>\n",
       "    </tr>\n",
       "    <tr>\n",
       "      <th>98</th>\n",
       "      <td>A person's a person, no matter how small.</td>\n",
       "      <td>/author/Dr-Seuss</td>\n",
       "      <td>Dr. Seuss</td>\n",
       "      <td>[inspirational]</td>\n",
       "    </tr>\n",
       "    <tr>\n",
       "      <th>99</th>\n",
       "      <td>... a mind needs books as a sword needs a whet...</td>\n",
       "      <td>/author/George-R-R-Martin</td>\n",
       "      <td>George R.R. Martin</td>\n",
       "      <td>[books, mind]</td>\n",
       "    </tr>\n",
       "  </tbody>\n",
       "</table>\n",
       "<p>100 rows × 4 columns</p>\n",
       "</div>"
      ],
      "text/plain": [
       "                                               quotes  \\\n",
       "0   The world as we have created it is a process o...   \n",
       "1   It is our choices, Harry, that show what we tr...   \n",
       "2   There are only two ways to live your life. One...   \n",
       "3   The person, be it gentleman or lady, who has n...   \n",
       "4   Imperfection is beauty, madness is genius and ...   \n",
       "..                                                ...   \n",
       "95  You never really understand a person until you...   \n",
       "96  You have to write the book that wants to be wr...   \n",
       "97  Never tell the truth to people who are not wor...   \n",
       "98          A person's a person, no matter how small.   \n",
       "99  ... a mind needs books as a sword needs a whet...   \n",
       "\n",
       "                    author_id         author_name  \\\n",
       "0     /author/Albert-Einstein     Albert Einstein   \n",
       "1         /author/J-K-Rowling        J.K. Rowling   \n",
       "2     /author/Albert-Einstein     Albert Einstein   \n",
       "3         /author/Jane-Austen         Jane Austen   \n",
       "4      /author/Marilyn-Monroe      Marilyn Monroe   \n",
       "..                        ...                 ...   \n",
       "95         /author/Harper-Lee          Harper Lee   \n",
       "96   /author/Madeleine-LEngle   Madeleine L'Engle   \n",
       "97         /author/Mark-Twain          Mark Twain   \n",
       "98           /author/Dr-Seuss           Dr. Seuss   \n",
       "99  /author/George-R-R-Martin  George R.R. Martin   \n",
       "\n",
       "                                                 tags  \n",
       "0            [change, deep-thoughts, thinking, world]  \n",
       "1                                [abilities, choices]  \n",
       "2      [inspirational, life, live, miracle, miracles]  \n",
       "3                  [aliteracy, books, classic, humor]  \n",
       "4                        [be-yourself, inspirational]  \n",
       "..                                                ...  \n",
       "95                              [better-life-empathy]  \n",
       "96  [books, children, difficult, grown-ups, write,...  \n",
       "97                                            [truth]  \n",
       "98                                    [inspirational]  \n",
       "99                                      [books, mind]  \n",
       "\n",
       "[100 rows x 4 columns]"
      ]
     },
     "execution_count": 199,
     "metadata": {},
     "output_type": "execute_result"
    }
   ],
   "source": [
    "df= pd.DataFrame(data,columns= [\"quotes\",\"author_id\",\"author_name\",\"tags\"])\n",
    "df"
   ]
  },
  {
   "cell_type": "code",
   "execution_count": 200,
   "id": "3bb03b9a-6c13-47cc-9af8-fada47cb8c9c",
   "metadata": {},
   "outputs": [],
   "source": [
    "df.to_csv(\"quotes.csv\")"
   ]
  },
  {
   "cell_type": "code",
   "execution_count": null,
   "id": "b8b6d41f-8fa6-40f0-9324-60236bfec080",
   "metadata": {},
   "outputs": [],
   "source": []
  }
 ],
 "metadata": {
  "kernelspec": {
   "display_name": "Python 3 (ipykernel)",
   "language": "python",
   "name": "python3"
  },
  "language_info": {
   "codemirror_mode": {
    "name": "ipython",
    "version": 3
   },
   "file_extension": ".py",
   "mimetype": "text/x-python",
   "name": "python",
   "nbconvert_exporter": "python",
   "pygments_lexer": "ipython3",
   "version": "3.12.6"
  }
 },
 "nbformat": 4,
 "nbformat_minor": 5
}
